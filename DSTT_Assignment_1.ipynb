{
  "nbformat": 4,
  "nbformat_minor": 0,
  "metadata": {
    "colab": {
      "provenance": []
    },
    "kernelspec": {
      "name": "python3",
      "display_name": "Python 3"
    },
    "language_info": {
      "name": "python"
    }
  },
  "cells": [
    {
      "cell_type": "markdown",
      "source": [
        "```\n",
        "Assignment 1 \n",
        "Shalu Kumari\n",
        "22-14-13\n",
        "```"
      ],
      "metadata": {
        "id": "2XT3mLkaUahK"
      }
    },
    {
      "cell_type": "markdown",
      "source": [
        "1. Given an array A of N numbers (int), WAP which prints the multiplication of the elements of array A with the corresponding elements of the reverse of array A.If A = [1,2,3], then reverse of A will be [3,2,1] and the result should be [3,4,3].Input Format:The first line of the input contains a number N The second line of the input contains N numbers separated by a space. (after the last elements, there is no space) Output Format:Print the resultant array"
      ],
      "metadata": {
        "id": "3Pke1XsAm2KP"
      }
    },
    {
      "cell_type": "code",
      "source": [
        "N=input(\"Enter a number \")\n",
        "A=[int(i) for i in N] # or A= list(map(int,input().split(\"\")))\n",
        "B=A[::-1]\n",
        "for i in range(len(A)):\n",
        "    c=A[i]*B[i]\n",
        "    print(c,end=\" \")"
      ],
      "metadata": {
        "id": "qWVxhgk_U9Wr",
        "colab": {
          "base_uri": "https://localhost:8080/"
        },
        "outputId": "1eee5730-8c08-4f98-f607-fe2ca2bcd8e6"
      },
      "execution_count": null,
      "outputs": [
        {
          "output_type": "stream",
          "name": "stdout",
          "text": [
            "Enter a number 6798\n",
            "48 63 63 48 "
          ]
        }
      ]
    },
    {
      "cell_type": "markdown",
      "source": [
        "2. Given a list of numbers (integers), find second maximum and second minimum in this list.Input Format:The first line contains numbers separated by a space.Output Format:Print the second maximum and second minimum separated by a space"
      ],
      "metadata": {
        "id": "p2F19Blkm-nD"
      }
    },
    {
      "cell_type": "code",
      "source": [
        "l=[100000,2,19,1900,300,20,207]\n",
        "for i in range(len(l)-1):\n",
        "    if  l[i]>l[i+1]:\n",
        "        l[i],l[i+1]=l[i+1],l[i]\n",
        "        for j in range(1,len(l)-1):\n",
        "            if  l[j]>l[j+1]:\n",
        "                l[j],l[j+1]=l[j+1],l[j]\n",
        "second_Maximum =l[len(l)-2]\n",
        "second_Minima = l[1]\n",
        "print(second_Maximum,second_Minima )"
      ],
      "metadata": {
        "id": "t66lwaBAnD41",
        "colab": {
          "base_uri": "https://localhost:8080/"
        },
        "outputId": "e19cfb12-70ef-476a-dbe2-250909f79ecd"
      },
      "execution_count": null,
      "outputs": [
        {
          "output_type": "stream",
          "name": "stdout",
          "text": [
            "1900 19\n"
          ]
        }
      ]
    },
    {
      "cell_type": "markdown",
      "source": [
        " 3.Given a list A of numbers (integers), you have to print those numbers which are not multiples of 5.Input Format:The first line contains the numbers of list A separated by a space.Output Format:Print the numbers in a single line separated by a space which are not multiples of 5.Example:Input:1 2 3 4 5 6 5 Output:1 2 3 4 6 Explanation:Here the elements of A are 1,2,3,4,5,6,5 and since 5 is the multiple of 5, after removingthem the list becomes 1,2,3,4,6."
      ],
      "metadata": {
        "id": "4jO9qefInITz"
      }
    },
    {
      "cell_type": "code",
      "source": [
        "A=[100000,2,19,1900,300,20,207]\n",
        "B=[]\n",
        "for i in range(len(A)):\n",
        "    if A[i]%5!=0:\n",
        "        B.append(A[i])\n",
        "    else:\n",
        "        continue\n",
        "print(B)"
      ],
      "metadata": {
        "id": "QcO4GOnTnJg3",
        "colab": {
          "base_uri": "https://localhost:8080/"
        },
        "outputId": "f092aeba-2fc8-486d-904d-a5680177a2a3"
      },
      "execution_count": null,
      "outputs": [
        {
          "output_type": "stream",
          "name": "stdout",
          "text": [
            "[2, 19, 207]\n"
          ]
        }
      ]
    },
    {
      "cell_type": "markdown",
      "source": [
        "4.You are given a number A which contains only digits 0’s and 1’s. Your task is to make all digits same by just flipping one digit (i.e. 0 to 1 or 1 to 0 ) only. If it is possible to make all the digits same by just flipping one digit then print ’YES’ else print ’NO’.Input Format:The first line contains a number made up of 0’s and 1’s.Output Format:Print ’YES’ or ’NO’ accordingly without quotes.Example:Input:101 Output:YES Explanation:If you flip the middle digit from 0 to 1 then all the digits will become same. Hence output is YES."
      ],
      "metadata": {
        "id": "QdPVOQVNnPBP"
      }
    },
    {
      "cell_type": "code",
      "source": [
        "A=int(input(\"Enter a numaber containg 0 and 1 only\"))\n",
        "x=str(A)\n",
        "y=[int(i) for i in x]\n",
        "if y.count(1)==1:\n",
        "     print(\"YES\")\n",
        "elif y.count(0)==1:\n",
        "    print(\"YES\")\n",
        "else:\n",
        "    print(\"NO\")"
      ],
      "metadata": {
        "id": "EMHU2YoznQGf",
        "colab": {
          "base_uri": "https://localhost:8080/"
        },
        "outputId": "0fe040cc-a666-4822-94fe-88fb50cfaa9b"
      },
      "execution_count": null,
      "outputs": [
        {
          "output_type": "stream",
          "name": "stdout",
          "text": [
            "Enter a numaber containg 0 and 1 only1110\n",
            "YES\n"
          ]
        }
      ]
    },
    {
      "cell_type": "markdown",
      "source": [
        " 5.Given an integer number n, you have to print the factorial of this number.Input Format:A number n .Output Format:Print the factorial of n.Example:Input:4 Output:24"
      ],
      "metadata": {
        "id": "KNyyUNB1nUXJ"
      }
    },
    {
      "cell_type": "code",
      "source": [
        "N=int(input(\"Enter a number\"))\n",
        "for i in range(1,N):\n",
        "    N=N*i\n",
        "print(N)"
      ],
      "metadata": {
        "id": "d8KBbVOInX27",
        "colab": {
          "base_uri": "https://localhost:8080/"
        },
        "outputId": "255052e6-e6aa-427b-9a41-a3c5e4f77443"
      },
      "execution_count": null,
      "outputs": [
        {
          "output_type": "stream",
          "name": "stdout",
          "text": [
            "Enter a number9\n",
            "362880\n"
          ]
        }
      ]
    },
    {
      "cell_type": "markdown",
      "source": [
        " 6.Write a program, which will find all such numbers between m and n (both included) such that each digit of the number is an even number.Input Format:The first line contains value m and n separated by a comma.Output Format:The numbers obtained should be printed in a comma-separated sequence on a singleline.Constraints:1000<=m<=90001000<=n<=9000"
      ],
      "metadata": {
        "id": "4Ivy2SrZnccV"
      }
    },
    {
      "cell_type": "code",
      "source": [
        "m=int(input(\"Enter 1st number\"))\n",
        "n=int(input(\"Enter 2nd number\"))\n",
        "c=[]\n",
        "if 1000<=m and n <=9000:\n",
        "    for i in range(m,n+1):\n",
        "        flag = 0\n",
        "        x=str(i)\n",
        "        y=[int(j) for j in x]\n",
        "    # print(y)\n",
        "        for k in y:\n",
        "            if k%2!=0 :\n",
        "                flag = 1\n",
        "                break\n",
        "        if flag==0:\n",
        "            print(i,end=\" \")\n",
        "else:\n",
        "    print(\"your number is out of range\")"
      ],
      "metadata": {
        "colab": {
          "base_uri": "https://localhost:8080/"
        },
        "id": "n38y-ZGEnddK",
        "outputId": "43e44928-d46d-4577-c84b-9d57388bac71"
      },
      "execution_count": null,
      "outputs": [
        {
          "output_type": "stream",
          "name": "stdout",
          "text": [
            "Enter 1st number1111\n",
            "Enter 2nd number4567\n",
            "2000 2002 2004 2006 2008 2020 2022 2024 2026 2028 2040 2042 2044 2046 2048 2060 2062 2064 2066 2068 2080 2082 2084 2086 2088 2200 2202 2204 2206 2208 2220 2222 2224 2226 2228 2240 2242 2244 2246 2248 2260 2262 2264 2266 2268 2280 2282 2284 2286 2288 2400 2402 2404 2406 2408 2420 2422 2424 2426 2428 2440 2442 2444 2446 2448 2460 2462 2464 2466 2468 2480 2482 2484 2486 2488 2600 2602 2604 2606 2608 2620 2622 2624 2626 2628 2640 2642 2644 2646 2648 2660 2662 2664 2666 2668 2680 2682 2684 2686 2688 2800 2802 2804 2806 2808 2820 2822 2824 2826 2828 2840 2842 2844 2846 2848 2860 2862 2864 2866 2868 2880 2882 2884 2886 2888 4000 4002 4004 4006 4008 4020 4022 4024 4026 4028 4040 4042 4044 4046 4048 4060 4062 4064 4066 4068 4080 4082 4084 4086 4088 4200 4202 4204 4206 4208 4220 4222 4224 4226 4228 4240 4242 4244 4246 4248 4260 4262 4264 4266 4268 4280 4282 4284 4286 4288 4400 4402 4404 4406 4408 4420 4422 4424 4426 4428 4440 4442 4444 4446 4448 4460 4462 4464 4466 4468 4480 4482 4484 4486 4488 "
          ]
        }
      ]
    },
    {
      "cell_type": "code",
      "source": [],
      "metadata": {
        "id": "nW8_bLr3spPr"
      },
      "execution_count": null,
      "outputs": []
    }
  ]
}